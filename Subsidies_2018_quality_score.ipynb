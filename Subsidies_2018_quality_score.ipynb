{
 "cells": [
  {
   "cell_type": "code",
   "execution_count": 1,
   "id": "retired-midnight",
   "metadata": {},
   "outputs": [],
   "source": [
    "import pandas as pd\n",
    "import matplotlib.pyplot as plt\n",
    "plt.style.use('classic')\n",
    "import plotly as py\n",
    "from chart_studio.plotly import plot, iplot\n",
    "import plotly.graph_objects as go\n",
    "import numpy as np"
   ]
  },
  {
   "cell_type": "code",
   "execution_count": 2,
   "id": "outer-memorabilia",
   "metadata": {},
   "outputs": [],
   "source": [
    "subsidies = pd.read_csv(\"Input/Subsidies_update_2018.csv\")"
   ]
  },
  {
   "cell_type": "code",
   "execution_count": 3,
   "id": "smoking-florist",
   "metadata": {},
   "outputs": [],
   "source": [
    "subsidies_cap = subsidies[subsidies['Category'] == 'Capacity-enhancing']"
   ]
  },
  {
   "cell_type": "code",
   "execution_count": 4,
   "id": "bizarre-reliance",
   "metadata": {},
   "outputs": [],
   "source": [
    "# create quality scores, by counting reported vs modelled for each subsidy type\n",
    "# and calculating percentages, ignoring all zeros that state: 'not found evidence of subsidy'\n",
    "# as zero subsidies will not be part of calculating the distribution of subsidies \n",
    "# 1 = 0-25% reported/total\n",
    "# 2 = 26-50% reported/total\n",
    "# 3 = 51-75% reported/total\n",
    "# 4 = 76-100% reported/total\n",
    "\n",
    "subsidies_cap_v2 = subsidies_cap.copy()\n",
    "grouped_v2 = subsidies_cap_v2.groupby(['Country','Data Type'], as_index = False).count()\n",
    "grouped_v2 = grouped_v2[['Country','Data Type','Type']]\n",
    "type_counts = grouped_v2[grouped_v2['Data Type'] != 'not found evidence of subsidy']\n",
    "type_count_pivot = type_counts.pivot(index = 'Country', columns = 'Data Type',values = 'Type')\n",
    "type_count_pivot = type_count_pivot.fillna(0)\n",
    "type_count_pivot['percent'] = type_count_pivot['Reported'] /(type_count_pivot['Modeled'] + type_count_pivot['Reported'])"
   ]
  },
  {
   "cell_type": "code",
   "execution_count": 5,
   "id": "ultimate-flour",
   "metadata": {},
   "outputs": [],
   "source": [
    "# this function adds the score to each line in the dataframe\n",
    "\n",
    "def quality_score_percent(row):\n",
    "    val = row['percent']\n",
    "    if val == 0:\n",
    "        return 1\n",
    "    if val < 0.25 or val == 0.25:\n",
    "        return 1\n",
    "    if val > 0.25 and val < 0.5 or val == 0.5:\n",
    "        return 2\n",
    "    if val > 0.5 and val < 0.75 or val == 0.75:\n",
    "        return 3\n",
    "    if val > 0.75 and val < 1 or val == 1:\n",
    "        return 4\n",
    "    else:\n",
    "        return 999\n",
    "# function applied to the dataframe creating a new column to display the quality score per country\n",
    "type_count_pivot['quality_score'] = type_count_pivot.apply(quality_score_percent, axis=1)\n"
   ]
  },
  {
   "cell_type": "code",
   "execution_count": 6,
   "id": "thick-pasta",
   "metadata": {},
   "outputs": [],
   "source": [
    "# organizing the data to end up with one quality score by country\n",
    "type_count_pivot = type_count_pivot.reset_index()\n",
    "subsidies_quality_scores = type_count_pivot[['Country','quality_score']]\n",
    "# output of the dataframe into .csv format so it can be used as an input dataframe\n",
    "subsidies_quality_scores.to_csv(\"Input/subsidies_quality_scores.csv\")"
   ]
  }
 ],
 "metadata": {
  "kernelspec": {
   "display_name": "Python 3",
   "language": "python",
   "name": "python3"
  },
  "language_info": {
   "codemirror_mode": {
    "name": "ipython",
    "version": 3
   },
   "file_extension": ".py",
   "mimetype": "text/x-python",
   "name": "python",
   "nbconvert_exporter": "python",
   "pygments_lexer": "ipython3",
   "version": "3.6.7"
  }
 },
 "nbformat": 4,
 "nbformat_minor": 5
}
